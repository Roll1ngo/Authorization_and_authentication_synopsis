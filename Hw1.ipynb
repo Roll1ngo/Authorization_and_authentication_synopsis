{
  "nbformat": 4,
  "nbformat_minor": 0,
  "metadata": {
    "colab": {
      "provenance": [],
      "toc_visible": true,
      "authorship_tag": "ABX9TyMIoMADZuT0KGydhY3KFtDO",
      "include_colab_link": true
    },
    "kernelspec": {
      "name": "python3",
      "display_name": "Python 3"
    },
    "language_info": {
      "name": "python"
    }
  },
  "cells": [
    {
      "cell_type": "markdown",
      "metadata": {
        "id": "view-in-github",
        "colab_type": "text"
      },
      "source": [
        "<a href=\"https://colab.research.google.com/github/Roll1ngo/Authorization_and_authentication_synopsis/blob/master/Hw1.ipynb\" target=\"_parent\"><img src=\"https://colab.research.google.com/assets/colab-badge.svg\" alt=\"Open In Colab\"/></a>"
      ]
    },
    {
      "cell_type": "markdown",
      "source": [
        "Home Work module 1"
      ],
      "metadata": {
        "id": "wUUO01CWMejR"
      }
    },
    {
      "cell_type": "code",
      "source": [
        "import numpy as np"
      ],
      "metadata": {
        "id": "ibzIXy9xMkWm"
      },
      "execution_count": 49,
      "outputs": []
    },
    {
      "cell_type": "code",
      "source": [
        "np.random.seed(0)"
      ],
      "metadata": {
        "id": "kXjAoc6tu4JZ"
      },
      "execution_count": 50,
      "outputs": []
    },
    {
      "cell_type": "markdown",
      "source": [
        "1.Створіть одновимірний масив (вектор) з першими 10-ма натуральними числами та виведіть його значення."
      ],
      "metadata": {
        "id": "LhfhAw4fMmAT"
      }
    },
    {
      "cell_type": "code",
      "source": [
        "v = np.array([range(0,10)], dtype=int) #  стандарт ISO 80000-2\n",
        "print(v)"
      ],
      "metadata": {
        "colab": {
          "base_uri": "https://localhost:8080/"
        },
        "id": "yB3_0daeN0z-",
        "outputId": "060d9e71-e001-4659-9d85-7981e5874d6b"
      },
      "execution_count": 51,
      "outputs": [
        {
          "output_type": "stream",
          "name": "stdout",
          "text": [
            "[[0 1 2 3 4 5 6 7 8 9]]\n"
          ]
        }
      ]
    },
    {
      "cell_type": "markdown",
      "source": [
        "2. Створіть двовимірний масив (матрицю) розміром 3x3, заповніть його нулями та виведіть його значення."
      ],
      "metadata": {
        "id": "StU2n3YyO5gX"
      }
    },
    {
      "cell_type": "code",
      "source": [
        "mx_zeros_3x3 = np.zeros((3,3),dtype=int)\n",
        "print(mx_zeros_3x3)"
      ],
      "metadata": {
        "colab": {
          "base_uri": "https://localhost:8080/"
        },
        "id": "30hEdPKMO_Xe",
        "outputId": "36e502e7-c7d8-4c2e-b10d-08b238fd9437"
      },
      "execution_count": 52,
      "outputs": [
        {
          "output_type": "stream",
          "name": "stdout",
          "text": [
            "[[0 0 0]\n",
            " [0 0 0]\n",
            " [0 0 0]]\n"
          ]
        }
      ]
    },
    {
      "cell_type": "markdown",
      "source": [
        "3.Створіть масив розміром 5x5, заповніть його випадковими цілими числами в діапазоні від 1 до 10 та виведіть його значення."
      ],
      "metadata": {
        "id": "Ej7L-4VbQals"
      }
    },
    {
      "cell_type": "code",
      "source": [
        "mx_random = np.random.randint(1,11, size=(5,5))\n",
        "print(mx_random)"
      ],
      "metadata": {
        "colab": {
          "base_uri": "https://localhost:8080/"
        },
        "id": "oQ_xVAC6QcLd",
        "outputId": "456d81fe-3f1e-4fa0-a4bd-5e853ba27c15"
      },
      "execution_count": 53,
      "outputs": [
        {
          "output_type": "stream",
          "name": "stdout",
          "text": [
            "[[ 6  1  4  4  8]\n",
            " [10  4  6  3  5]\n",
            " [ 8  7  9  9  2]\n",
            " [ 7  8  8  9  2]\n",
            " [ 6 10  9 10  5]]\n"
          ]
        }
      ]
    },
    {
      "cell_type": "markdown",
      "source": [
        "4.Створіть масив розміром 4x4, заповніть його випадковими дійсними числами в діапазоні від 0 до 1 та виведіть його значення."
      ],
      "metadata": {
        "id": "As0h8TRFR3V3"
      }
    },
    {
      "cell_type": "code",
      "source": [
        "mx_random = np.random.rand(4,4)\n",
        "print(mx_random)"
      ],
      "metadata": {
        "colab": {
          "base_uri": "https://localhost:8080/"
        },
        "id": "B9NgnLDrR51G",
        "outputId": "4d883faa-e5a6-4b7e-bf56-6fe94e2528ff"
      },
      "execution_count": 54,
      "outputs": [
        {
          "output_type": "stream",
          "name": "stdout",
          "text": [
            "[[0.0202184  0.83261985 0.77815675 0.87001215]\n",
            " [0.97861834 0.79915856 0.46147936 0.78052918]\n",
            " [0.11827443 0.63992102 0.14335329 0.94466892]\n",
            " [0.52184832 0.41466194 0.26455561 0.77423369]]\n"
          ]
        }
      ]
    },
    {
      "cell_type": "markdown",
      "source": [
        "5.Створіть два одновимірних масиви розміром 5, заповніть їх випадковими цілими числами в діапазоні від 1 до 10 та виконайте на них поелементні операції додавання, віднімання та множення."
      ],
      "metadata": {
        "id": "pXRiW-zOS-qb"
      }
    },
    {
      "cell_type": "code",
      "source": [
        "v_1 = np.random.randint(1,11, size=(5))\n",
        "v_2 = np.random.randint(1,11, size=(5))\n",
        "print(f\"v1 = {v_1}\\nv2 = {v_2}\\nadd:{np.add(v_1,v_2)}\\nsub: {np.subtract(v_1,v_2)}\\nmultiply: {np.multiply(v_1,v_2)} \")"
      ],
      "metadata": {
        "colab": {
          "base_uri": "https://localhost:8080/"
        },
        "id": "64ZGoLovTCwW",
        "outputId": "1afbea7a-99c1-41b7-cf30-3c0b12bfa59f"
      },
      "execution_count": 55,
      "outputs": [
        {
          "output_type": "stream",
          "name": "stdout",
          "text": [
            "v1 = [8 3 1 1 5]\n",
            "v2 = [6 6 7 9 5]\n",
            "add:[14  9  8 10 10]\n",
            "sub: [ 2 -3 -6 -8  0]\n",
            "multiply: [48 18  7  9 25] \n"
          ]
        }
      ]
    },
    {
      "cell_type": "markdown",
      "source": [
        "or"
      ],
      "metadata": {
        "id": "U6bsxu2dXgIp"
      }
    },
    {
      "cell_type": "code",
      "source": [
        "print(f\"v1 = {v_1}\\nv2 = {v_2}\\nadd:{v_1+v_2}\\nsub: {v_1-v_2}\\nmultiply: {v_1*v_2} \")"
      ],
      "metadata": {
        "colab": {
          "base_uri": "https://localhost:8080/"
        },
        "id": "dJXf8imyXh35",
        "outputId": "16eb2ef5-60e1-4085-df07-89a79f8d90c7"
      },
      "execution_count": 56,
      "outputs": [
        {
          "output_type": "stream",
          "name": "stdout",
          "text": [
            "v1 = [8 3 1 1 5]\n",
            "v2 = [6 6 7 9 5]\n",
            "add:[14  9  8 10 10]\n",
            "sub: [ 2 -3 -6 -8  0]\n",
            "multiply: [48 18  7  9 25] \n"
          ]
        }
      ]
    },
    {
      "cell_type": "markdown",
      "source": [
        "6.Створіть два вектори розміром 7, заповніть довільними числами та знайдіть їх скалярний добуток."
      ],
      "metadata": {
        "id": "cDUSkD05XHDf"
      }
    },
    {
      "cell_type": "code",
      "source": [
        "v_1 = np.random.randint(1,11, size=(7))\n",
        "v_2 = np.random.randint(1,11, size=(7))\n",
        "print(np.multiply(v_1,v_2))"
      ],
      "metadata": {
        "colab": {
          "base_uri": "https://localhost:8080/"
        },
        "id": "_xOAkOLsXJMW",
        "outputId": "684c9700-62f9-4b70-c9d8-24144fe68cec"
      },
      "execution_count": 57,
      "outputs": [
        {
          "output_type": "stream",
          "name": "stdout",
          "text": [
            "[20 50 40 63 16  6  8]\n"
          ]
        }
      ]
    },
    {
      "cell_type": "markdown",
      "source": [
        "7.Створіть дві матриці розміром 2x2 та 2x3, заповніть їх випадковими цілими числами в діапазоні від 1 до 10 та перемножте їх між собою."
      ],
      "metadata": {
        "id": "fNrPPT-tYjvy"
      }
    },
    {
      "cell_type": "code",
      "source": [
        "\n"
      ],
      "metadata": {
        "id": "P72fVOIDYlqh"
      },
      "execution_count": 57,
      "outputs": []
    },
    {
      "cell_type": "markdown",
      "source": [
        "8.Створіть матрицю розміром 3x3, заповніть її випадковими цілими числами в діапазоні від 1 до 10 та знайдіть її обернену матрицю."
      ],
      "metadata": {
        "id": "-WvghkW2bif5"
      }
    },
    {
      "cell_type": "code",
      "source": [
        "mx = np.random.randint(1,11, size=(3,3))\n",
        "mx_inv = np.linalg.pinv(mx)\n",
        "print(f'random matrix 3x3\\n{mx}\\ninversion matrix\\n{mx_inv}')"
      ],
      "metadata": {
        "colab": {
          "base_uri": "https://localhost:8080/"
        },
        "id": "JHQY1pgdbkfZ",
        "outputId": "bee5fb20-11af-411a-d053-fd1018feada9"
      },
      "execution_count": 58,
      "outputs": [
        {
          "output_type": "stream",
          "name": "stdout",
          "text": [
            "random matrix 3x3\n",
            "[[ 4  6 10]\n",
            " [ 5  5  7]\n",
            " [ 5  5  4]]\n",
            "inversion matrix\n",
            "[[-5.00000000e-01  8.66666667e-01 -2.66666667e-01]\n",
            " [ 5.00000000e-01 -1.13333333e+00  7.33333333e-01]\n",
            " [ 2.07894146e-16  3.33333333e-01 -3.33333333e-01]]\n"
          ]
        }
      ]
    },
    {
      "cell_type": "markdown",
      "source": [
        "9.Створіть матрицю розміром 4x4, заповніть її випадковими дійсними числами в діапазоні від 0 до 1 та транспонуйте її."
      ],
      "metadata": {
        "id": "eWYqD7yYciBY"
      }
    },
    {
      "cell_type": "code",
      "source": [
        "mx = np.random.rand(4,4)\n",
        "\n",
        "print(f'random matrix 4x4\\n{mx}\\ntranspose matrix mx.T\\n{mx.T}\\nor mx.transpose()\\n{mx.transpose()}')\n"
      ],
      "metadata": {
        "colab": {
          "base_uri": "https://localhost:8080/"
        },
        "id": "w90hvL1acmQC",
        "outputId": "63019929-b05f-4f01-824d-a5c8389e0e09"
      },
      "execution_count": 59,
      "outputs": [
        {
          "output_type": "stream",
          "name": "stdout",
          "text": [
            "random matrix 4x4\n",
            "[[0.99529957 0.58185033 0.41436859 0.4746975 ]\n",
            " [0.6235101  0.33800761 0.67475232 0.31720174]\n",
            " [0.77834548 0.94957105 0.66252687 0.01357164]\n",
            " [0.6228461  0.67365963 0.971945   0.87819347]]\n",
            "transpose matrix mx.T\n",
            "[[0.99529957 0.6235101  0.77834548 0.6228461 ]\n",
            " [0.58185033 0.33800761 0.94957105 0.67365963]\n",
            " [0.41436859 0.67475232 0.66252687 0.971945  ]\n",
            " [0.4746975  0.31720174 0.01357164 0.87819347]]\n",
            "or mx.transpose()\n",
            "[[0.99529957 0.6235101  0.77834548 0.6228461 ]\n",
            " [0.58185033 0.33800761 0.94957105 0.67365963]\n",
            " [0.41436859 0.67475232 0.66252687 0.971945  ]\n",
            " [0.4746975  0.31720174 0.01357164 0.87819347]]\n"
          ]
        }
      ]
    },
    {
      "cell_type": "markdown",
      "source": [
        "10.Створіть матрицю розміром 3x4 та вектор розміром 4, заповніть їх випадковими цілими числами в діапазоні від 1 до 10 та перемножте матрицю на вектор."
      ],
      "metadata": {
        "id": "rwF04SbMeidI"
      }
    },
    {
      "cell_type": "code",
      "source": [
        "mx = np.random.randint(1,11, size=(3,4), dtype=int)\n",
        "v = np.random.randint(1,11, size=(4))\n",
        "multiply_mx_v = np.dot(mx,v)\n",
        "print(f'random matrix 3x4\\n{mx}\\nrandom vector\\n{v}\\nmultiply matrix and vector\\n{multiply_mx_v}')\n"
      ],
      "metadata": {
        "colab": {
          "base_uri": "https://localhost:8080/"
        },
        "id": "p32A6oxeej_2",
        "outputId": "a7f54653-9cbf-4a99-fbb4-a2906d29377c"
      },
      "execution_count": 60,
      "outputs": [
        {
          "output_type": "stream",
          "name": "stdout",
          "text": [
            "random matrix 3x4\n",
            "[[ 1  8  6 10]\n",
            " [ 1  3  8  3]\n",
            " [10  3  4  4]]\n",
            "random vector\n",
            "[3 4 5 2]\n",
            "multiply matrix and vector\n",
            "[85 61 70]\n"
          ]
        }
      ]
    },
    {
      "cell_type": "markdown",
      "source": [
        "11.Створіть матрицю розміром 2x3 та вектор розміром 3, заповніть їх випадковими дійсними числами в діапазоні від 0 до 1 та перемножте матрицю на вектор."
      ],
      "metadata": {
        "id": "Ld9xxwTgi4_g"
      }
    },
    {
      "cell_type": "code",
      "source": [
        "mx = np.random.rand(2,3)\n",
        "v = np.random.rand(3)\n",
        "multiply_mx_v = np.dot(mx,v)\n",
        "print(f'random matrix 2x3\\n{mx}\\nrandom vector\\n{v}\\nmultiply matrix and vector\\n{multiply_mx_v}')"
      ],
      "metadata": {
        "colab": {
          "base_uri": "https://localhost:8080/"
        },
        "id": "d_2ZsyqgjBeD",
        "outputId": "85eb509f-8efe-40ac-c6f7-f79ae54ccd41"
      },
      "execution_count": 61,
      "outputs": [
        {
          "output_type": "stream",
          "name": "stdout",
          "text": [
            "random matrix 2x3\n",
            "[[0.50896896 0.91672295 0.92115761]\n",
            " [0.08311249 0.27771856 0.0093567 ]]\n",
            "random vector\n",
            "[0.84234208 0.64717414 0.84138612]\n",
            "multiply matrix and vector\n",
            "[1.79705459 0.25761402]\n"
          ]
        }
      ]
    },
    {
      "cell_type": "markdown",
      "source": [
        "12.Створіть дві матриці розміром 2x2, заповніть їх випадковими цілими числами в діапазоні від 1 до 10 та виконайте їхнє поелементне множення."
      ],
      "metadata": {
        "id": "jk_kXpk9kXSW"
      }
    },
    {
      "cell_type": "code",
      "source": [
        "mx_1 = np.random.randint(1,11, size=(2,2))\n",
        "mx_2 = np.random.randint(1,11, size=(2,2))\n",
        "print(f'matrix_1:\\n{mx_1}\\nmatrix_2:\\n{mx_2}\\nelement-by-element multiplication of matrices mx_1*mx_2:\\\n",
        "\\n{mx_1*mx_2}\\n or np.multiply(mx_1,mx_2)\\n{np.multiply(mx_1,mx_2)}')"
      ],
      "metadata": {
        "colab": {
          "base_uri": "https://localhost:8080/"
        },
        "id": "FxBT20WckYvZ",
        "outputId": "42171c80-57a6-414c-f615-5b51294a8664"
      },
      "execution_count": 62,
      "outputs": [
        {
          "output_type": "stream",
          "name": "stdout",
          "text": [
            "matrix_1:\n",
            "[[7 4]\n",
            " [4 9]]\n",
            "matrix_2:\n",
            "[[9 9]\n",
            " [3 4]]\n",
            "element-by-element multiplication of matrices mx_1*mx_2:\n",
            "[[63 36]\n",
            " [12 36]]\n",
            " or np.multiply(mx_1,mx_2)\n",
            "[[63 36]\n",
            " [12 36]]\n"
          ]
        }
      ]
    },
    {
      "cell_type": "markdown",
      "source": [
        "13.Створіть дві матриці розміром 2x2, заповніть їх випадковими цілими числами в діапазоні від 1 до 10 та знайдіть їх добуток."
      ],
      "metadata": {
        "id": "A1V4PJnkmLT-"
      }
    },
    {
      "cell_type": "code",
      "source": [
        "mx_1 = np.random.randint(1,11, size=(2,2))\n",
        "mx_2 = np.random.randint(1,11, size=(2,2))\n",
        "scalar_product = np.sum(np.multiply(mx_1, mx_2))\n",
        "print(f'matrix_1:\\n{mx_1}\\nmatrix_2:\\n{mx_2}\\n scalar_product:\\n{scalar_product}')"
      ],
      "metadata": {
        "colab": {
          "base_uri": "https://localhost:8080/"
        },
        "id": "1AQsu9VzmQtY",
        "outputId": "664494d5-ebe0-43b9-e5dd-151f4e513d03"
      },
      "execution_count": 63,
      "outputs": [
        {
          "output_type": "stream",
          "name": "stdout",
          "text": [
            "matrix_1:\n",
            "[[3 1]\n",
            " [9 9]]\n",
            "matrix_2:\n",
            "[[4 9]\n",
            " [3 9]]\n",
            " scalar_product:\n",
            "129\n"
          ]
        }
      ]
    },
    {
      "cell_type": "markdown",
      "source": [
        "14.Створіть матрицю розміром 5x5, заповніть її випадковими цілими числами в діапазоні від 1 до 100 та знайдіть суму елементів матриці."
      ],
      "metadata": {
        "id": "AxEyC_KOru2g"
      }
    },
    {
      "cell_type": "code",
      "source": [
        "mx = np.random.randint(1,100, size=(5,5))\n",
        "print(f'matrix:\\n{mx}\\n np.sum(matrix)\\n{np.sum(mx)}\\nor matrix.sum()\\n{mx.sum()}')"
      ],
      "metadata": {
        "colab": {
          "base_uri": "https://localhost:8080/"
        },
        "id": "KyUGny9Yr07p",
        "outputId": "d25a9c13-48bb-49a5-c1ad-22b977189bea"
      },
      "execution_count": 64,
      "outputs": [
        {
          "output_type": "stream",
          "name": "stdout",
          "text": [
            "matrix:\n",
            "[[53 68 62 15 97]\n",
            " [ 5 68 12 87 78]\n",
            " [76 57 17 25 30]\n",
            " [22 26 81 61 62]\n",
            " [84 34 33 71 86]]\n",
            " np.sum(matrix)\n",
            "1310\n",
            "or matrix.sum()\n",
            "1310\n"
          ]
        }
      ]
    },
    {
      "cell_type": "markdown",
      "source": [
        "15.Створіть дві матриці розміром 4x4, заповніть їх випадковими цілими числами в діапазоні від 1 до 10 та знайдіть їхню різницю."
      ],
      "metadata": {
        "id": "4WfJpdW1tSIO"
      }
    },
    {
      "cell_type": "code",
      "source": [
        "mx_1 = np.random.randint(1,11, size=(4,4))\n",
        "mx_2 = np.random.randint(1,11, size=(4,4))\n",
        "np_matrix_sub = np.subtract(mx_1, mx_2)\n",
        "py_matrix_sub = mx_1 - mx_2\n",
        "print(f\"np matrixs subtract:\\n{np_matrix_sub}\\npython matrixs subtract\\n{py_matrix_sub}\")"
      ],
      "metadata": {
        "colab": {
          "base_uri": "https://localhost:8080/"
        },
        "id": "5h7rM_cxnNai",
        "outputId": "1d5cfe35-f2ee-46df-db4e-ddd976b04d61"
      },
      "execution_count": 65,
      "outputs": [
        {
          "output_type": "stream",
          "name": "stdout",
          "text": [
            "np matrixs subtract:\n",
            "[[ 1  5  2  4]\n",
            " [-5  8 -2  2]\n",
            " [ 3 -4 -2  6]\n",
            " [ 5 -6 -5 -2]]\n",
            "python matrixs subtract\n",
            "[[ 1  5  2  4]\n",
            " [-5  8 -2  2]\n",
            " [ 3 -4 -2  6]\n",
            " [ 5 -6 -5 -2]]\n"
          ]
        }
      ]
    },
    {
      "cell_type": "markdown",
      "source": [
        "16.Створіть матрицю розміром 3x3, заповніть її випадковими дійсними числами в діапазоні від 0 до 1 та знайдіть вектор-стовпчик, що містить суму елементів кожного рядка матриці."
      ],
      "metadata": {
        "id": "kjlXwaSjooo7"
      }
    },
    {
      "cell_type": "code",
      "source": [
        "mx = np.random.rand(3,3)\n",
        "v = np.sum(mx, axis=0)\n",
        "\n",
        "print(f'random matrix 3x3\\n{mx}\\nnp.sum(matrix, axis=0)\\n{v}')"
      ],
      "metadata": {
        "colab": {
          "base_uri": "https://localhost:8080/"
        },
        "id": "X0FBizsVoqmS",
        "outputId": "c192ca37-644d-4330-8eae-74b2c90d8b90"
      },
      "execution_count": 66,
      "outputs": [
        {
          "output_type": "stream",
          "name": "stdout",
          "text": [
            "random matrix 3x3\n",
            "[[0.84800823 0.80731896 0.56910074]\n",
            " [0.4071833  0.069167   0.69742877]\n",
            " [0.45354268 0.7220556  0.86638233]]\n",
            "np.sum(matrix, axis=0)\n",
            "[1.70873421 1.59854155 2.13291184]\n"
          ]
        }
      ]
    },
    {
      "cell_type": "markdown",
      "source": [
        "17.Створіть матрицю розміром 3x4 з довільними цілими числами і створінь матрицю з квадратами цих чисел."
      ],
      "metadata": {
        "id": "Ul0WPDH0tSwy"
      }
    },
    {
      "cell_type": "code",
      "source": [
        "mx = np.random.randint(1,11, size=(3,4))\n",
        "print(f'Python make square elements: matrix**2\\n{mx**2}\\n\\\n",
        " Numpy make square elements np.square(matrix)\\n{np.square(mx)}')"
      ],
      "metadata": {
        "colab": {
          "base_uri": "https://localhost:8080/"
        },
        "id": "khrB7TGutU89",
        "outputId": "6903dc7c-6bff-454e-f008-d6685675a777"
      },
      "execution_count": 67,
      "outputs": [
        {
          "output_type": "stream",
          "name": "stdout",
          "text": [
            "Python make square elements: matrix**2\n",
            "[[100  64  64  36]\n",
            " [  4   9   9  81]\n",
            " [  4  36  81  25]]\n",
            " Numpy make square elements np.square(matrix)\n",
            "[[100  64  64  36]\n",
            " [  4   9   9  81]\n",
            " [  4  36  81  25]]\n"
          ]
        }
      ]
    },
    {
      "cell_type": "markdown",
      "source": [
        "18.Створіть вектор розміром 4, заповніть його випадковими цілими числами в діапазоні від 1 до 50 та знайдіть вектор з квадратними коренями цих чисел."
      ],
      "metadata": {
        "id": "x0w8WP7ywMyI"
      }
    },
    {
      "cell_type": "code",
      "source": [
        "v = np.random.randint(1,50, size=(4))\n",
        "print(f'Python make square elements: vector**2\\n{v**2}\\n\\\n",
        " Numpy make square elements np.square(vector)\\n{np.square(v)}')"
      ],
      "metadata": {
        "colab": {
          "base_uri": "https://localhost:8080/"
        },
        "id": "mSzEEvB-wOn5",
        "outputId": "5a82933e-fc8d-4611-f2c2-35ac8fe902e6"
      },
      "execution_count": 68,
      "outputs": [
        {
          "output_type": "stream",
          "name": "stdout",
          "text": [
            "Python make square elements: vector**2\n",
            "[   1  144 1225   36]\n",
            " Numpy make square elements np.square(vector)\n",
            "[   1  144 1225   36]\n"
          ]
        }
      ]
    }
  ]
}
{
  "cells": [
    {
      "cell_type": "markdown",
      "metadata": {
        "id": "view-in-github",
        "colab_type": "text"
      },
      "source": [
        "<a href=\"https://colab.research.google.com/github/Roll1ngo/Authorization_and_authentication_synopsis/blob/master/Hw_8_NN.ipynb\" target=\"_parent\"><img src=\"https://colab.research.google.com/assets/colab-badge.svg\" alt=\"Open In Colab\"/></a>"
      ]
    },
    {
      "cell_type": "markdown",
      "metadata": {
        "id": "b0Yf4NBJUSNM"
      },
      "source": [
        "# Створення нейронної мережі\n",
        "\n",
        "У цьому завданні ми створимо повнозв'язну нейронну мережу, використовуючи при цьому низькорівневі механізми tensorflow.\n",
        "\n",
        "Архітектура нейромережі представлена на наступному малюнку. Як бачиш, у ній є один вхідний шар, два приховані, а також вихідний шар. В якості активаційної функції у прихованих шарах буде використовуватись сигмоїда. На вихідному шарі ми використовуємо softmax.\n",
        "\n",
        "Частина коду зі створення мережі вже написана, тобі потрібно заповнити пропуски у вказаних місцях."
      ]
    },
    {
      "cell_type": "markdown",
      "metadata": {
        "id": "01rZWUu0USNQ"
      },
      "source": [
        "## Архітектура нейронної мережі\n",
        "\n",
        "<img src=\"http://cs231n.github.io/assets/nn1/neural_net2.jpeg\" alt=\"nn\" style=\"width: 400px;\"/>\n"
      ]
    },
    {
      "cell_type": "markdown",
      "metadata": {
        "id": "LLvIZ705Qw_V"
      },
      "source": [
        "## Про датасет MNIST\n",
        "\n",
        "Дану нейромережу ми будемо вивчати на датасеті MNIST. Цей датасет являє собою велику кількість зображень рукописних цифр розміром $28 \\times 28$ пікселів. Кожен піксель приймає значення від 0 до 255.\n",
        "\n",
        "Як і раніше, датасет буде розділений на навчальну та тестову вибірки. При цьому ми виконаємо нормалізацію всіх зображень, щоб значення пікселів знаходилось у проміжку від 0 до 1, розділивши яскравість кожного пікселя на 255.\n",
        "\n",
        "Окрім того, архітектура нейронної мережі очікує на вхід вектор. У нашому ж випадку кожен об'єкт вибірки являє собою матрицю. Що ж робити? У цьому завданні ми \"розтягнемо\" матрицю $28 \\times 28$, отримавши при цьому вектор, що складається з 784 елементів.\n",
        "\n",
        "![MNIST Dataset](https://www.researchgate.net/profile/Steven-Young-5/publication/306056875/figure/fig1/AS:393921575309346@1470929630835/Example-images-from-the-MNIST-dataset.png)\n",
        "\n",
        "Більше інформації про датасет можна знайти [тут](http://yann.lecun.com/exdb/mnist/)."
      ]
    },
    {
      "cell_type": "code",
      "execution_count": null,
      "metadata": {
        "id": "il_0_5OyUSNR"
      },
      "outputs": [],
      "source": [
        "import tensorflow as tf\n",
        "import numpy as np\n",
        "import pandas as pd\n",
        "import matplotlib.pyplot as plt\n",
        "import random\n",
        "import keras as K\n",
        "import seaborn as sns\n",
        "from sklearn.metrics import confusion_matrix"
      ]
    },
    {
      "cell_type": "code",
      "execution_count": null,
      "metadata": {
        "id": "cd-1_abTUSNS"
      },
      "outputs": [],
      "source": [
        "num_classes = 10 # загальна кількість класів, у нашому випадку це цифри від 0 до 9\n",
        "num_features = 784 # кількість атрибутів вхідного вектора 28 * 28 = 784\n",
        "\n",
        "learning_rate = 0.001 # швидкість навчання нейронної мережі\n",
        "training_steps = 3000 # максимальне число епох\n",
        "batch_size = 256 # перераховувати ваги мережі ми будемо не на всій вибірці, а на її випадковій підмножині з batch_size елементів\n",
        "display_step = 100 # кожні 100 ітерацій ми будемо показувати поточне значення функції втрат і точності\n",
        "\n",
        "n_hidden_1 = 128 # кількість нейронів 1-го шару\n",
        "n_hidden_2 = 256 # кількість нейронів 2-го шару"
      ]
    },
    {
      "cell_type": "code",
      "execution_count": null,
      "metadata": {
        "colab": {
          "base_uri": "https://localhost:8080/"
        },
        "id": "pGTXiRyTUSNT",
        "outputId": "f89d3020-df68-4416-cc18-52f5f08f6995"
      },
      "outputs": [
        {
          "output_type": "stream",
          "name": "stdout",
          "text": [
            "10000\n"
          ]
        }
      ],
      "source": [
        "# from tensorflow.keras.datasets import mnist\n",
        "from keras.datasets import mnist\n",
        "\n",
        "# Завантажуємо датасет\n",
        "(x_train, y_train), (x_test, y_test) = mnist.load_data()\n",
        "print(y_test.size)\n",
        "\n",
        "# Перетворюємо цілочисельні пікселі на тип float32\n",
        "x_train, x_test = np.array(x_train, np.float32), np.array(x_test, np.float32)\n",
        "\n",
        "# Перетворюємо матриці розміром 28x28 пікселів у вектор з 784 елементів\n",
        "x_train, x_test = x_train.reshape([-1, num_features]), x_test.reshape([-1, num_features])\n",
        "\n",
        "# Нормалізуємо значення пікселів\n",
        "x_train, x_test = x_train / 255., x_test / 255.\n",
        "\n",
        "# Перемішаємо тренувальні дані\n",
        "train_data = tf.data.Dataset.from_tensor_slices((x_train, y_train))\n",
        "train_data = train_data.repeat().shuffle(5000).batch(batch_size).prefetch(1)"
      ]
    },
    {
      "cell_type": "code",
      "execution_count": null,
      "metadata": {
        "id": "FkRmCQjnUSNV"
      },
      "outputs": [],
      "source": [
        "# Створимо нейронну мережу\n",
        "\n",
        "class DenseLayer(tf.Module):\n",
        "    def __init__(self, in_features, out_features, name=None):\n",
        "        super().__init__(name=name)\n",
        "        self.w = tf.Variable(\n",
        "            tf.random.normal([in_features, out_features]), name=\"w\"\n",
        "        )\n",
        "        self.b = tf.Variable(tf.zeros([out_features]), name=\"b\")\n",
        "\n",
        "    def __call__(self, x, activation=0):\n",
        "        y = tf.matmul(x, self.w) + self.b\n",
        "        if activation != 0:\n",
        "            return tf.nn.softmax(y)\n",
        "        else:\n",
        "            return tf.nn.sigmoid(y)\n",
        "\n",
        "class NN(tf.Module):\n",
        "  def __init__(self, name=None):\n",
        "    super().__init__(name=name)\n",
        "    # Перший шар, який складається з 128 нейронів\n",
        "    self.layer_1 = DenseLayer(in_features=num_features, out_features=n_hidden_1)\n",
        "    # Другий шар, який складається з 256 нейронів\n",
        "    self.layer_2 = DenseLayer(in_features=n_hidden_1, out_features=n_hidden_2)\n",
        "    # Вихідний шар\n",
        "    self.output_layer = DenseLayer(in_features=n_hidden_2,\n",
        "                                   out_features=num_classes)\n",
        "\n",
        "\n",
        "  def __call__(self, x):\n",
        "    # Передача даних через перші два шари та вихідний шар з функцією активації softmax\n",
        "    x = self.layer_1(x)\n",
        "    x_2layer = self.layer_2(x)\n",
        "    y_pred = self.output_layer(x_2layer, activation=1)\n",
        "\n",
        "\n",
        "    return y_pred"
      ]
    },
    {
      "cell_type": "code",
      "execution_count": null,
      "metadata": {
        "id": "LIf3o7VAUSNV"
      },
      "outputs": [],
      "source": [
        "# В якості функції помилки в даному випадку зручно взяти крос-ентропію\n",
        "def cross_entropy(y_pred, y_true):\n",
        "    # Закодувати label в one hot vector\n",
        "    y_true = tf.one_hot(y_true, depth=num_classes)\n",
        "\n",
        "    # Значення передбачення, щоб уникнути помилки log(0).\n",
        "    y_pred = tf.clip_by_value(y_pred, 1e-9, 1.)\n",
        "\n",
        "    # Обчислення крос-ентропії\n",
        "    return tf.reduce_mean(-tf.reduce_sum(y_true * tf.math.log(y_pred)))\n",
        "\n",
        "# Як метрику якості використовуємо точність\n",
        "def accuracy(y_pred, y_true):\n",
        "\n",
        "    pred = tf.argmax(y_pred, axis=1)\n",
        "    true = tf.cast(y_true, tf.int64)\n",
        "\n",
        "    equal_pred_bool = tf.equal(pred, true)\n",
        "\n",
        "    sum_pred_bin = tf.reduce_sum(tf.cast(equal_pred_bool, tf.float32))\n",
        "\n",
        "    total_predictions = tf.cast(tf.size(equal_pred_bool), tf.float32)\n",
        "\n",
        "    accuracy_= sum_pred_bin / total_predictions\n",
        "\n",
        "\n",
        "\n",
        "    return accuracy_"
      ]
    },
    {
      "cell_type": "code",
      "execution_count": null,
      "metadata": {
        "id": "MQeT1yatUSNW"
      },
      "outputs": [],
      "source": [
        "# Створимо екземпляр нейронної мережі\n",
        "neural_net = NN(name=\"mnist\")\n",
        "\n",
        "# Функція навчання нейромережі\n",
        "def train(neural_net, input_x, output_y):\n",
        "  # Для налаштування вагів мережі будемо використовувати стохастичний градієнтний спуск\n",
        "  optimizer = tf.optimizers.SGD(learning_rate)\n",
        "\n",
        "  # Активація автоматичного диференціювання\n",
        "  with tf.GradientTape() as g:\n",
        "    pred = neural_net(input_x)\n",
        "    loss = cross_entropy(pred, output_y)\n",
        "\n",
        "    # Отримаємо список оптимізованих параметрів\n",
        "    trainable_variables = neural_net.trainable_variables\n",
        "    # Обчислимо за ними значення градієнта\n",
        "    gradients = g.gradient(loss, trainable_variables)\n",
        "\n",
        "    # Модифікуємо параметри\n",
        "    optimizer.apply_gradients(zip(gradients, trainable_variables))"
      ]
    },
    {
      "cell_type": "code",
      "execution_count": null,
      "metadata": {
        "id": "fnyns9lBfpQZ",
        "colab": {
          "base_uri": "https://localhost:8080/"
        },
        "outputId": "24e77a8b-3f44-4561-8d8b-803384b3f50c"
      },
      "outputs": [
        {
          "output_type": "stream",
          "name": "stdout",
          "text": [
            "Step: 100, Loss: 274.1582946777344, Accuracy: 0.69140625\n",
            "Step: 200, Loss: 169.64732360839844, Accuracy: 0.81640625\n",
            "Step: 300, Loss: 142.88172912597656, Accuracy: 0.828125\n",
            "Step: 400, Loss: 150.06204223632812, Accuracy: 0.859375\n",
            "Step: 500, Loss: 105.76821899414062, Accuracy: 0.875\n",
            "Step: 600, Loss: 132.16725158691406, Accuracy: 0.84765625\n",
            "Step: 700, Loss: 100.01683044433594, Accuracy: 0.87890625\n",
            "Step: 800, Loss: 101.4266586303711, Accuracy: 0.87890625\n",
            "Step: 900, Loss: 91.2269515991211, Accuracy: 0.890625\n",
            "Step: 1000, Loss: 92.89920043945312, Accuracy: 0.8671875\n",
            "Step: 1100, Loss: 87.84529113769531, Accuracy: 0.89453125\n",
            "Step: 1200, Loss: 83.1578369140625, Accuracy: 0.890625\n",
            "Step: 1300, Loss: 106.36074829101562, Accuracy: 0.89453125\n",
            "Step: 1400, Loss: 76.50370788574219, Accuracy: 0.90234375\n",
            "Step: 1500, Loss: 65.57323455810547, Accuracy: 0.92578125\n",
            "Step: 1600, Loss: 75.80509948730469, Accuracy: 0.90234375\n",
            "Step: 1700, Loss: 67.25141143798828, Accuracy: 0.9140625\n",
            "Step: 1800, Loss: 71.38688659667969, Accuracy: 0.921875\n",
            "Step: 1900, Loss: 75.20543670654297, Accuracy: 0.9140625\n",
            "Step: 2000, Loss: 54.21525192260742, Accuracy: 0.9296875\n",
            "Step: 2100, Loss: 93.89216613769531, Accuracy: 0.890625\n",
            "Step: 2200, Loss: 79.12547302246094, Accuracy: 0.90234375\n",
            "Step: 2300, Loss: 86.88479614257812, Accuracy: 0.91015625\n",
            "Step: 2400, Loss: 79.82135009765625, Accuracy: 0.91796875\n",
            "Step: 2500, Loss: 93.14542388916016, Accuracy: 0.91015625\n",
            "Step: 2600, Loss: 78.30162048339844, Accuracy: 0.90234375\n",
            "Step: 2700, Loss: 71.99162292480469, Accuracy: 0.91796875\n",
            "Step: 2800, Loss: 72.28813171386719, Accuracy: 0.91015625\n",
            "Step: 2900, Loss: 74.99417114257812, Accuracy: 0.9140625\n",
            "Step: 3000, Loss: 70.93438720703125, Accuracy: 0.9140625\n"
          ]
        }
      ],
      "source": [
        "# Тренування мережі\n",
        "\n",
        "loss_history = []  # кожні display_step кроків зберігай в цьому списку поточну помилку нейромережі\n",
        "accuracy_history = [] # кожні display_step кроків зберігай в цьому списку поточну точність нейромережі\n",
        "\n",
        "# У цьому циклі ми будемо проводити навчання нейронної мережі\n",
        "# із тренувального датасета train_data вилучи випадкову підмножину, на якій\n",
        "# відбудеться тренування. Використовуй метод take, доступний для тренувального датасета.\n",
        "for step, (batch_x, batch_y) in enumerate(train_data.take(training_steps), 1):\n",
        "    # Оновлюємо ваги нейронної мережі\n",
        "    train(neural_net, batch_x, batch_y)\n",
        "\n",
        "    if step % display_step == 0:\n",
        "      pred = neural_net(batch_x)\n",
        "\n",
        "      loss = cross_entropy(pred, batch_y)\n",
        "      acc = accuracy(pred, batch_y)\n",
        "\n",
        "      loss_history.append(loss.numpy())\n",
        "      accuracy_history.append(acc.numpy())\n",
        "      print(f\"Step: {step}, Loss: {loss.numpy()}, Accuracy: {acc.numpy()}\")\n"
      ]
    },
    {
      "cell_type": "code",
      "execution_count": null,
      "metadata": {
        "id": "_yCBfG6MbQB2",
        "colab": {
          "base_uri": "https://localhost:8080/",
          "height": 581
        },
        "outputId": "ffe1d451-195c-414f-b596-21f1a26553e4"
      },
      "outputs": [
        {
          "output_type": "execute_result",
          "data": {
            "text/plain": [
              "<matplotlib.legend.Legend at 0x7f806b13f1f0>"
            ]
          },
          "metadata": {},
          "execution_count": 20
        },
        {
          "output_type": "display_data",
          "data": {
            "text/plain": [
              "<Figure size 1000x600 with 2 Axes>"
            ],
            "image/png": "[encoded data removed]"
          },
          "metadata": {}
        }
      ],
      "source": [
        "# Виведіть графіки залежності зміни точності і втрат від кроку\n",
        "# Якщо все зроблено правильно, то точність повинна зростати, а втрати зменшуватись\n",
        "\n",
        "import matplotlib.pyplot as plt\n",
        "\n",
        "# Виведіть графік функції втрат\n",
        "plt.figure(figsize=(10, 6),facecolor='lightgrey')\n",
        "\n",
        "plt.subplot(121, facecolor='lightblue')\n",
        "plt.plot(range(0, training_steps, display_step), loss_history, label='Втрати',\n",
        "         color='green')\n",
        "plt.xlabel('Кроки навчання')\n",
        "plt.ylabel('Втрати')\n",
        "plt.title('Залежність зміни втрат від кроку ')\n",
        "plt.legend()\n",
        "\n",
        "# Виведіть графік точності\n",
        "plt.subplot(122, facecolor='lightblue')\n",
        "plt.plot(range(0, training_steps, display_step),\n",
        "         accuracy_history, label='Точність', color='orange')\n",
        "plt.xlabel('Кроки навчання')\n",
        "plt.ylabel('Точність')\n",
        "plt.title('Залежність зміни точності від кроку')\n",
        "plt.legend()\n"
      ]
    },
    {
      "cell_type": "code",
      "execution_count": null,
      "metadata": {
        "id": "LE3g4gDyUSNY",
        "colab": {
          "base_uri": "https://localhost:8080/"
        },
        "outputId": "e8b38e98-64a4-4661-bf82-2e556a421af8"
      },
      "outputs": [
        {
          "output_type": "stream",
          "name": "stdout",
          "text": [
            "Mean accuracy train_data: 0.9252005208333334\n",
            "Mean accuracy test_data: 0.9078125\n"
          ]
        }
      ],
      "source": [
        "# Обчисліть точність навченої нейромережі\n",
        "\n",
        "def mean_accuracy(model, data):\n",
        "    total_acc = 0.0\n",
        "    num_batches = 0\n",
        "\n",
        "    for batch_x, batch_y in data.take(training_steps):\n",
        "        pred = model(batch_x)\n",
        "        acc = accuracy(pred, batch_y).numpy()\n",
        "        total_acc += acc\n",
        "        num_batches += 1\n",
        "\n",
        "    return total_acc / num_batches\n",
        "\n",
        "\n",
        "print(f\"Mean accuracy train_data: {mean_accuracy(neural_net, train_data)}\")\n",
        "\n",
        "# Тестування моделі на тестових даних\n",
        "\n",
        "test_data = tf.data.Dataset.from_tensor_slices((x_test, y_test)).batch(batch_size).prefetch(1)\n",
        "print(f\"Mean accuracy test_data: {mean_accuracy(neural_net, test_data)}\")\n"
      ]
    },
    {
      "cell_type": "code",
      "execution_count": null,
      "metadata": {
        "id": "_EEHAubOUSNY",
        "colab": {
          "base_uri": "https://localhost:8080/"
        },
        "outputId": "0ff9f892-ec04-4944-a100-22291b0f715c"
      },
      "outputs": [
        {
          "output_type": "stream",
          "name": "stdout",
          "text": [
            "Accuracy 10 random samples: 90.0 %\n"
          ]
        }
      ],
      "source": [
        "# Протестуйте навчену нейромережу на 10 зображеннях.\n",
        "\n",
        "random_10_idxs = np.random.choice(len(x_test), 10, replace=False)\n",
        "random_images = x_test[random_10_idxs]\n",
        "random_labels = y_test[random_10_idxs]\n",
        "\n",
        "pred = neural_net(random_images)\n",
        "pred_labels = tf.argmax(pred, axis=1).numpy()\n",
        "\n",
        "acc_10_random = np.sum(pred_labels == random_labels)/len(random_labels)\n",
        "print('Accuracy 10 random samples:', acc_10_random * 100, '%')\n"
      ]
    },
    {
      "cell_type": "code",
      "source": [
        "# Протестуйте навчену нейромережу на 10 зображеннях. З тестової вибірки візьміть 5\n",
        "# випадкових зображень і передайте їх у нейронну мережу.\n",
        "# Виведіть зображення та випишіть  поруч відповідь нейромережі.\n",
        "# Зробіть висновок про те, чи помиляється твоя нейронна мережа, і якщо так, то як часто?\n",
        "\n",
        "indixes = np.random.choice(len(x_test), 5, replace=False)\n",
        "images = x_test[indixes]\n",
        "labels = y_test[indixes]\n",
        "\n",
        "pred = neural_net(images)\n",
        "pred_labels = tf.argmax(pred, axis=1).numpy()\n",
        "\n",
        "\n",
        "plt.figure(figsize=(28, len(images)*28))\n",
        "for i in range(len(images)):\n",
        "    plt.subplot(1, 5, i + 1)\n",
        "    plt.imshow(images[i].reshape(28, 28), cmap='gray')\n",
        "    plt.title(f\" Tru label: {labels[i]}\\nPredict label: {pred_labels[i]}\")\n",
        "    plt.axis('off')\n",
        "plt.show()"
      ],
      "metadata": {
        "colab": {
          "base_uri": "https://localhost:8080/",
          "height": 474
        },
        "id": "q7Zx3wpVgFfv",
        "outputId": "56c58415-b5d7-48a3-b62f-1a68cf68c88d"
      },
      "execution_count": 47,
      "outputs": [
        {
          "output_type": "display_data",
          "data": {
            "text/plain": [
              "<Figure size 2800x14000 with 5 Axes>"
            ],
            "image/png": "[encoded data removed]"
          },
          "metadata": {}
        }
      ]
    },
    {
      "cell_type": "markdown",
      "source": [
        "## Висновок\n",
        "\n",
        "У процесі аналізу роботи нейронної мережі на тренувальному сеті MNIST, можна зробити висновок, що, як і людина, нейронна мережа може допускати помилки. Зокрема, у моєму випадку, нейромережа демонструє рівень помилок у середньому в розмірі 10 відсотків, що можна порівняти з людськими сумнівами та невпевненістю при ідентифікації рукописних цифр на перший поглад.\n",
        "\n",
        "Однак, відмінність між людиною та нейронною мережею полягає в тому, що людина може враховувати контекст та додаткову інформацію при розпізнаванні цифр, що дозволяє їй у багатьох випадках визначати правильну цифру однозначно. Навпаки, нейронна мережа аналізує кожен малюнок окремо, без урахування контексту, що призводить до помилок.\n",
        "\n",
        "Якщо ж додати контекст до даних, на яких навчається нейронна мережа, можна очікувати значного зниження рівня помилок. У моєму розумінні, врахування контексту дозволило б нейронній мережі наблизитися до здатності людини до точного розпізнавання, і, відповідно, зменшити кількість помилок практично до нуля."
      ],
      "metadata": {
        "id": "2CWiMOz0lg1Q"
      }
    }
  ],
  "metadata": {
    "colab": {
      "provenance": [],
      "include_colab_link": true
    },
    "kernelspec": {
      "display_name": "Python 3 (ipykernel)",
      "language": "python",
      "name": "python3"
    },
    "language_info": {
      "codemirror_mode": {
        "name": "ipython",
        "version": 3
      },
      "file_extension": ".py",
      "mimetype": "text/x-python",
      "name": "python",
      "nbconvert_exporter": "python",
      "pygments_lexer": "ipython3",
      "version": "3.9.2"
    }
  },
  "nbformat": 4,
  "nbformat_minor": 0
}
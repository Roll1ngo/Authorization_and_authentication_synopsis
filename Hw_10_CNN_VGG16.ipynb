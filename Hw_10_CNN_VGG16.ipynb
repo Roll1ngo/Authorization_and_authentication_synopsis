{
  "cells": [
    {
      "cell_type": "markdown",
      "metadata": {
        "id": "view-in-github",
        "colab_type": "text"
      },
      "source": [
        "<a href=\"https://colab.research.google.com/github/Roll1ngo/Authorization_and_authentication_synopsis/blob/master/Hw_10_CNN_VGG16.ipynb\" target=\"_parent\"><img src=\"https://colab.research.google.com/assets/colab-badge.svg\" alt=\"Open In Colab\"/></a>"
      ]
    },
    {
      "cell_type": "markdown",
      "metadata": {
        "id": "3EqHulhuEyG9"
      },
      "source": [
        "Скопійюємо код дослідження, підготовки даних та код моделі з попереднього завдання."
      ]
    },
    {
      "cell_type": "code",
      "execution_count": null,
      "metadata": {
        "id": "5oXfIU3uVzgu"
      },
      "outputs": [],
      "source": [
        "from keras.datasets import fashion_mnist\n",
        "from keras.utils import to_categorical\n",
        "from keras.models import Sequential, Model\n",
        "from keras.layers import Input, Flatten, Dense, BatchNormalization, Dropout, Conv2D\n",
        "from keras.optimizers import Adam, RMSprop, AdamW, Lion\n",
        "from keras.applications.vgg16 import VGG16\n",
        "from keras.preprocessing.image import ImageDataGenerator\n",
        "from keras.callbacks import EarlyStopping, ReduceLROnPlateau\n",
        "from keras.regularizers import l2\n",
        "\n",
        "\n",
        "import pandas as pd\n",
        "import numpy as np\n",
        "import tensorflow as tf\n",
        "import matplotlib.pyplot as plt\n",
        "\n",
        "from PIL import Image\n",
        "from IPython.display import display"
      ]
    },
    {
      "cell_type": "markdown",
      "metadata": {
        "id": "3Nyc-yNnnmEr"
      },
      "source": [
        "Підлаштуємо вивід графіків"
      ]
    },
    {
      "cell_type": "markdown",
      "metadata": {
        "id": "s_mAETm6AAkl"
      },
      "source": []
    },
    {
      "cell_type": "markdown",
      "metadata": {
        "id": "LQ6gJ5jxn9UA"
      },
      "source": [
        " Завантажуємо данні"
      ]
    },
    {
      "cell_type": "code",
      "execution_count": null,
      "metadata": {
        "id": "qI5rqejFWbmU"
      },
      "outputs": [],
      "source": [
        "(train_data_full, train_labels_full), (test_data_full, test_labels_full) = fashion_mnist.load_data()"
      ]
    },
    {
      "cell_type": "markdown",
      "metadata": {
        "id": "Plfrwy3wjGCd"
      },
      "source": [
        "## Змінимо розмір вхідних даних для коректної роботи згорткових слоїв VGG16"
      ]
    },
    {
      "cell_type": "code",
      "execution_count": null,
      "metadata": {
        "colab": {
          "base_uri": "https://localhost:8080/"
        },
        "id": "P_r3lzscJgOL",
        "outputId": "e3c8c038-61f2-4db8-854c-f930ac8139da"
      },
      "outputs": [
        {
          "output_type": "execute_result",
          "data": {
            "text/plain": [
              "(TensorShape([60000, 48, 48, 3]), TensorShape([10000, 48, 48, 3]))"
            ]
          },
          "metadata": {},
          "execution_count": 9
        }
      ],
      "source": [
        "train_data_cnn = tf.expand_dims(train_data_full, axis=-1)/255\n",
        "test_data_cnn = tf.expand_dims(test_data_full, axis=-1)/255\n",
        "\n",
        "train_data_resized = tf.image.resize(train_data_cnn, [48, 48])\n",
        "test_data_resized = tf.image.resize(test_data_cnn, [48, 48])\n",
        "\n",
        "\n",
        "train_data_rgb = tf.image.grayscale_to_rgb(train_data_resized)\n",
        "test_data_rgb = tf.image.grayscale_to_rgb(test_data_resized)\n",
        "\n",
        "train_labels_full = to_categorical(train_labels_full, 10)\n",
        "test_labels_full = to_categorical(test_labels_full, 10)\n",
        "\n",
        "train_data_rgb.shape, test_data_rgb.shape"
      ]
    },
    {
      "cell_type": "markdown",
      "source": [
        "Візьмемо згорткові слої"
      ],
      "metadata": {
        "id": "FWZLMz6xgvYX"
      }
    },
    {
      "cell_type": "code",
      "source": [
        "conv_layers_vgg16 = VGG16(weights=\"imagenet\", include_top=False,\n",
        "                          input_shape=(48, 48, 3))"
      ],
      "metadata": {
        "id": "csrgi5iqg0YR"
      },
      "execution_count": null,
      "outputs": []
    },
    {
      "cell_type": "markdown",
      "source": [
        "З заморожуванням всіх слоїв точнічть не перевищує 89%. Будемо поступово залучати останні згорткові слої до навчання разом з повнов'язними шарами."
      ],
      "metadata": {
        "id": "h7cN3uDtg159"
      }
    },
    {
      "cell_type": "code",
      "source": [
        "\n",
        "n = 13\n",
        "\n",
        "for layer in conv_layers_vgg16.layers[:n]:\n",
        "    layer.trainable = False\n",
        "\n",
        "\n",
        "for layer in conv_layers_vgg16.layers[n:]:\n",
        "    layer.trainable = True"
      ],
      "metadata": {
        "id": "NvGhHIT1gQ7u"
      },
      "execution_count": null,
      "outputs": []
    },
    {
      "cell_type": "markdown",
      "metadata": {
        "id": "mDF4gx0YNqLs"
      },
      "source": [
        "## Створемо модель зі згорткових слоїв моделі  VGG16 та додамо повнов'язні шари для класифікації наших даних."
      ]
    },
    {
      "cell_type": "code",
      "execution_count": null,
      "metadata": {
        "colab": {
          "base_uri": "https://localhost:8080/"
        },
        "id": "zU4oNW9yOy0z",
        "outputId": "f253879e-ebff-45c4-9c80-b947963c3eed",
        "collapsed": true
      },
      "outputs": [
        {
          "output_type": "stream",
          "name": "stdout",
          "text": [
            "Model: \"model_10\"\n",
            "_________________________________________________________________\n",
            " Layer (type)                Output Shape              Param #   \n",
            "=================================================================\n",
            " input_2 (InputLayer)        [(None, 48, 48, 3)]       0         \n",
            "                                                                 \n",
            " block1_conv1 (Conv2D)       (None, 48, 48, 64)        1792      \n",
            "                                                                 \n",
            " block1_conv2 (Conv2D)       (None, 48, 48, 64)        36928     \n",
            "                                                                 \n",
            " block1_pool (MaxPooling2D)  (None, 24, 24, 64)        0         \n",
            "                                                                 \n",
            " block2_conv1 (Conv2D)       (None, 24, 24, 128)       73856     \n",
            "                                                                 \n",
            " block2_conv2 (Conv2D)       (None, 24, 24, 128)       147584    \n",
            "                                                                 \n",
            " block2_pool (MaxPooling2D)  (None, 12, 12, 128)       0         \n",
            "                                                                 \n",
            " block3_conv1 (Conv2D)       (None, 12, 12, 256)       295168    \n",
            "                                                                 \n",
            " block3_conv2 (Conv2D)       (None, 12, 12, 256)       590080    \n",
            "                                                                 \n",
            " block3_conv3 (Conv2D)       (None, 12, 12, 256)       590080    \n",
            "                                                                 \n",
            " block3_pool (MaxPooling2D)  (None, 6, 6, 256)         0         \n",
            "                                                                 \n",
            " block4_conv1 (Conv2D)       (None, 6, 6, 512)         1180160   \n",
            "                                                                 \n",
            " block4_conv2 (Conv2D)       (None, 6, 6, 512)         2359808   \n",
            "                                                                 \n",
            " block4_conv3 (Conv2D)       (None, 6, 6, 512)         2359808   \n",
            "                                                                 \n",
            " block4_pool (MaxPooling2D)  (None, 3, 3, 512)         0         \n",
            "                                                                 \n",
            " block5_conv1 (Conv2D)       (None, 3, 3, 512)         2359808   \n",
            "                                                                 \n",
            " block5_conv2 (Conv2D)       (None, 3, 3, 512)         2359808   \n",
            "                                                                 \n",
            " block5_conv3 (Conv2D)       (None, 3, 3, 512)         2359808   \n",
            "                                                                 \n",
            " block5_pool (MaxPooling2D)  (None, 1, 1, 512)         0         \n",
            "                                                                 \n",
            " flatten_13 (Flatten)        (None, 512)               0         \n",
            "                                                                 \n",
            " dense_27 (Dense)            (None, 512)               262656    \n",
            "                                                                 \n",
            " batch_normalization_5 (Bat  (None, 512)               2048      \n",
            " chNormalization)                                                \n",
            "                                                                 \n",
            " dropout_16 (Dropout)        (None, 512)               0         \n",
            "                                                                 \n",
            " dense_28 (Dense)            (None, 10)                5130      \n",
            "                                                                 \n",
            "=================================================================\n",
            "Total params: 14984522 (57.16 MB)\n",
            "Trainable params: 9708042 (37.03 MB)\n",
            "Non-trainable params: 5276480 (20.13 MB)\n",
            "_________________________________________________________________\n",
            "Epoch 1/20\n",
            "469/469 [==============================] - 27s 53ms/step - loss: 20.5538 - accuracy: 0.9849 - val_loss: 3.6084 - val_accuracy: 0.9315\n",
            "Epoch 2/20\n",
            "469/469 [==============================] - 25s 53ms/step - loss: 0.6015 - accuracy: 0.9990 - val_loss: 0.4435 - val_accuracy: 0.9355\n",
            "Epoch 3/20\n",
            "469/469 [==============================] - 25s 53ms/step - loss: 0.0060 - accuracy: 0.9993 - val_loss: 0.7061 - val_accuracy: 0.9334\n",
            "Epoch 4/20\n",
            "469/469 [==============================] - 25s 52ms/step - loss: 0.0026 - accuracy: 0.9996 - val_loss: 0.7933 - val_accuracy: 0.9323\n",
            "Epoch 5/20\n",
            "469/469 [==============================] - 24s 52ms/step - loss: 0.0023 - accuracy: 0.9997 - val_loss: 0.8259 - val_accuracy: 0.9327\n",
            "Epoch 6/20\n",
            "469/469 [==============================] - 24s 52ms/step - loss: 0.0019 - accuracy: 0.9997 - val_loss: 0.6507 - val_accuracy: 0.9331\n",
            "Epoch 7/20\n",
            "469/469 [==============================] - 24s 52ms/step - loss: 0.0019 - accuracy: 0.9998 - val_loss: 0.7620 - val_accuracy: 0.9337\n",
            "Epoch 8/20\n",
            "469/469 [==============================] - 24s 52ms/step - loss: 0.0017 - accuracy: 0.9998 - val_loss: 0.6652 - val_accuracy: 0.9332\n",
            "Epoch 9/20\n",
            "469/469 [==============================] - 24s 52ms/step - loss: 8.8011e-04 - accuracy: 1.0000 - val_loss: 0.5258 - val_accuracy: 0.9324\n",
            "Epoch 10/20\n",
            "469/469 [==============================] - 24s 52ms/step - loss: 0.0014 - accuracy: 0.9998 - val_loss: 0.6223 - val_accuracy: 0.9342\n",
            "Epoch 11/20\n",
            "469/469 [==============================] - 25s 53ms/step - loss: 0.0014 - accuracy: 0.9998 - val_loss: 0.6504 - val_accuracy: 0.9328\n",
            "Epoch 12/20\n",
            "469/469 [==============================] - 24s 52ms/step - loss: 9.5417e-04 - accuracy: 0.9999 - val_loss: 0.6822 - val_accuracy: 0.9325\n"
          ]
        }
      ],
      "source": [
        "x = conv_layers_vgg16.output\n",
        "x = Flatten()(x)\n",
        "x = Dense(512, activation='relu', kernel_regularizer=l2(0.1))(x)\n",
        "x = BatchNormalization()(x)\n",
        "x = Dropout(0.6)(x)\n",
        "output = Dense(10, activation='softmax')(x)\n",
        "\n",
        "model = Model(inputs=conv_layers_vgg16.input, outputs=output)\n",
        "\n",
        "batch_size = 128\n",
        "early_stopping_callback = EarlyStopping(patience=10)\n",
        "optimizer_= RMSprop(learning_rate=0.0001)\n",
        "\n",
        "model.compile(optimizer=optimizer_,\n",
        "              loss='categorical_crossentropy',\n",
        "              metrics=['accuracy'])\n",
        "model.summary()\n",
        "\n",
        "history = model.fit(train_data_rgb,\n",
        "                    train_labels_full,\n",
        "                    validation_data=(test_data_rgb, test_labels_full),\n",
        "                    batch_size=batch_size,\n",
        "                    callbacks=[early_stopping_callback],\n",
        "                    epochs=20)"
      ]
    },
    {
      "cell_type": "markdown",
      "metadata": {
        "id": "HO0T7hWbtpr0"
      },
      "source": [
        "Тренуємо"
      ]
    },
    {
      "cell_type": "code",
      "execution_count": null,
      "metadata": {
        "colab": {
          "base_uri": "https://localhost:8080/",
          "height": 407
        },
        "id": "YLbRNW7bFp1N",
        "outputId": "beebc62b-b506-4b5c-d622-cfd50dc26a63"
      },
      "outputs": [
        {
          "output_type": "display_data",
          "data": {
            "text/plain": [
              "<Figure size 1300x400 with 2 Axes>"
            ],
            "image/png": "[encoded data removed]"
          },
          "metadata": {}
        }
      ],
      "source": [
        "  hіstory=history\n",
        "  plt.figure(figsize=(13,4))\n",
        "\n",
        "\n",
        "  plt.subplot(1, 2, 1)\n",
        "  plt.plot(hіstory.history['loss'], label='train')\n",
        "  plt.plot(hіstory.history['val_loss'], label='test')\n",
        "  plt.title('Loss')\n",
        "\n",
        "\n",
        "  min_val_loss = min(hіstory.history['val_loss'])\n",
        "  min_val_loss_epoch = hіstory.history['val_loss'].index(min_val_loss)\n",
        "\n",
        "  plt.annotate(f'Min Val Loss: {min_val_loss:.4f}',\n",
        "                xy=(min_val_loss_epoch, min_val_loss),\n",
        "                xytext=(min_val_loss_epoch, min_val_loss + 0.3),\n",
        "                arrowprops=dict(facecolor='orange', shrink=0.05),\n",
        "                horizontalalignment='center')\n",
        "\n",
        "  plt.subplot(1, 2, 2)\n",
        "  plt.plot([round(100*e,2) for e in hіstory.history['accuracy']], label='train')\n",
        "  plt.plot([round(100*e,2) for e in hіstory.history['val_accuracy']], label='test')\n",
        "  plt.title('Accuracy')\n",
        "  plt.ylim(0, 100)\n",
        "  plt.legend()\n",
        "\n",
        "  max_train_accuracy = max(hіstory.history['accuracy'])\n",
        "  max_train_accuracy_epoch = hіstory.history['accuracy'].index(max_train_accuracy)\n",
        "  max_train_accuracy_percentage = round(100 * max_train_accuracy, 2)\n",
        "\n",
        "\n",
        "  plt.annotate(f'Max Train Acc: {max_train_accuracy_percentage}%',\n",
        "                xy=(max_train_accuracy_epoch, max_train_accuracy_percentage),\n",
        "                xytext=(max_train_accuracy_epoch,max_train_accuracy_epoch + 15),\n",
        "                arrowprops=dict(facecolor='blue', shrink=0.05),\n",
        "                horizontalalignment='center')\n",
        "\n",
        "  max_val_accuracy = max(hіstory.history['val_accuracy'])\n",
        "  max_val_accuracy_epoch = hіstory.history['val_accuracy'].index(max_val_accuracy)\n",
        "  max_val_accuracy_percentage = round(100 * max_val_accuracy, 2)\n",
        "\n",
        "\n",
        "  plt.annotate(f'Max Val Accuracy: {max_val_accuracy_percentage}%',\n",
        "                xy=(max_val_accuracy_epoch, max_val_accuracy_percentage),\n",
        "                xytext=(max_val_accuracy_epoch, max_val_accuracy +55.5),\n",
        "                arrowprops=dict(facecolor='orange', shrink=0.05),\n",
        "                horizontalalignment='center')\n",
        "\n",
        "  plt.tight_layout()\n",
        "  plt.show()"
      ]
    },
    {
      "cell_type": "markdown",
      "source": [
        "Висновки: Попередньо навчену згоркову частину доцільно використовувати в задачах де вхідні данні співпадають з данними на яких тренувалася модель, що значно скорочують час і обчислювальні ресурси, необхідні для навчання. Це обумовлено тим, що такі моделі вже мають узагальнені знання про розпізнавання об'єктів. Але якщо дані дуже специфічні, то написання моделі з \"нуля\" дасть кращі результати ніж використання непідходящої згорткової основи. Однак, навчання з нуля вимагає значних обчислювальних ресурсів та часу. Це може бути непрактично для окремих розробників або малих команд. Тому ,як завжди, важливий баланс при виборі інструментів для вирішення поставлених задач."
      ],
      "metadata": {
        "id": "gU2G5QQWan7t"
      }
    }
  ],
  "metadata": {
    "colab": {
      "provenance": [],
      "gpuType": "T4",
      "include_colab_link": true
    },
    "kernelspec": {
      "display_name": "Python 3",
      "name": "python3"
    },
    "language_info": {
      "name": "python"
    },
    "accelerator": "GPU"
  },
  "nbformat": 4,
  "nbformat_minor": 0
}